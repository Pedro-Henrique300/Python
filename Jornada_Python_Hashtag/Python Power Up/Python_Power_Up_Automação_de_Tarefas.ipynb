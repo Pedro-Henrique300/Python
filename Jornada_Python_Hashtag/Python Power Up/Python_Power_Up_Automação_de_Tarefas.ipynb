{
  "cells": [
    {
      "cell_type": "code",
      "execution_count": null,
      "id": "d645c629",
      "metadata": {
        "collapsed": true,
        "id": "d645c629"
      },
      "outputs": [],
      "source": [
        "# !pip3 install pyautogui -> caso precise abaixar no proprio jupyter\n",
        "# Passo a passo do projeto\n",
        "# Passo 1: Entrar no sistema da empresa\n",
        "    #https://dlp.hashtagtreinamentos.com/python/intensivao/login\n",
        "\n",
        "import pyautogui as pa\n",
        "import time\n",
        "import pandas as pd\n",
        "\n",
        "# pyautogui.write('') -> escreve um texto entre ''\n",
        "# pyautogui.press('') -> apertar 1 tecla ( ex: 'ctrl' 'alt' 'n')\n",
        "# pyautogui.click(x, y)-> clicar em algum lugar da tela\n",
        "# pyautogui.hotkey('') -> combinação de teclas (ex: 'ctrl', 'c')\n",
        "# pyautogui.scroll( ) -> dar scroll ( passar o valor (número) dentro do '()', positivo vai pra cima...negativo vai pra baixo )\n",
        "\n",
        "pa.PAUSE = 0.3 # um delay a cada comando do pyautogui\n",
        "\n",
        "    # abrir o navegador\n",
        "pa.press('win')\n",
        "pa.write('chrome')\n",
        "pa.press('enter')\n",
        "\n",
        "    # entrar no link\n",
        "pa.write('https://dlp.hashtagtreinamentos.com/python/intensivao/login')\n",
        "pa.press('enter')\n",
        "time.sleep(3) # um delay em apenas um lugar específico\n",
        "\n",
        "\n",
        "# Passo 2: fazer login\n",
        "    # selecionar o campo de email\n",
        "pa.click(x=685, y=451)\n",
        "    # escrever o seu email\n",
        "pa.write('pythomexemplo@gmail.com')\n",
        "pa.press('tab') # passando pro proximo campo\n",
        "pa.write('sua senha')\n",
        "pa.click(x=955, y=638) # click no botão de login\n",
        "time.sleep(3)\n",
        "\n",
        "# Passo 3: Importar a base de produtos pra cadastrar\n",
        "tabela = pd.read_csv('produtos.csv')\n",
        "print(tabela)\n",
        "\n",
        "# Passo 4: Cadastrar um produto\n",
        "for linha in tabela.index:\n",
        "        # clicar no campo de código\n",
        "    pa.click(x=653, y=294)\n",
        "        # pegar da tebela o valor do campo que a gente quer preencher\n",
        "    codigo = tabela.loc[linha, 'codigo']\n",
        "        # preencher o campo\n",
        "    pa.write(str(codigo))\n",
        "        # passar para o proximo campo\n",
        "    pa.press('tab')\n",
        "        # preencher o campo\n",
        "    pa.write(str(tabela.loc[linha, 'marca']))\n",
        "    pa.press('tab')\n",
        "    pa.write(str(tabela.loc[linha, 'tipo']))\n",
        "    pa.press('tab')\n",
        "    pa.write(str(tabela.loc[linha, 'categoria']))\n",
        "    pa.press('tab')\n",
        "    pa.write(str(tabela.loc[linha, 'preco_unitario']))\n",
        "    pa.press('tab')\n",
        "    pa.write(str(tabela.loc[linha, 'custo']))\n",
        "    pa.press('tab')\n",
        "    obs = tabela.loc[linha, 'obs']\n",
        "    if not pd.isna(obs):\n",
        "        pa.write(str(tabela.loc[linha, 'obs']))\n",
        "    pa.press('tab')\n",
        "    pa.press('enter') # cadastrar o produto ( botão enviar )\n",
        "        # dar scroll de tudo pra cima\n",
        "    pa.scroll(5000)\n",
        "\n",
        "# Passo 5: Repetir o processo de cadastro até o fim\n",
        "\n"
      ]
    },
    {
      "cell_type": "code",
      "execution_count": null,
      "id": "2a74c39f",
      "metadata": {
        "id": "2a74c39f"
      },
      "outputs": [],
      "source": [
        "# para achar as coordenadas do mouse na tela e poder usar o \" pyautogui.click() \"\n",
        "import pyautogui as pa\n",
        "import time\n",
        "\n",
        "time.sleep(5)\n",
        "print(pa.position())"
      ]
    }
  ],
  "metadata": {
    "kernelspec": {
      "display_name": "Python 3 (ipykernel)",
      "language": "python",
      "name": "python3"
    },
    "language_info": {
      "codemirror_mode": {
        "name": "ipython",
        "version": 3
      },
      "file_extension": ".py",
      "mimetype": "text/x-python",
      "name": "python",
      "nbconvert_exporter": "python",
      "pygments_lexer": "ipython3",
      "version": "3.9.12"
    },
    "colab": {
      "provenance": []
    }
  },
  "nbformat": 4,
  "nbformat_minor": 5
}