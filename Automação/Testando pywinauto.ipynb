{
 "cells": [
  {
   "cell_type": "code",
   "execution_count": 2,
   "id": "7a5f3de5",
   "metadata": {},
   "outputs": [
    {
     "name": "stdout",
     "output_type": "stream",
     "text": [
      "Collecting pywinauto\n",
      "  Downloading pywinauto-0.6.8-py2.py3-none-any.whl (362 kB)\n",
      "Requirement already satisfied: pywin32 in c:\\users\\elisabete\\anaconda3\\lib\\site-packages (from pywinauto) (302)\n",
      "Requirement already satisfied: comtypes in c:\\users\\elisabete\\anaconda3\\lib\\site-packages (from pywinauto) (1.1.10)\n",
      "Requirement already satisfied: six in c:\\users\\elisabete\\anaconda3\\lib\\site-packages (from pywinauto) (1.16.0)\n",
      "Installing collected packages: pywinauto\n",
      "Successfully installed pywinauto-0.6.8\n"
     ]
    }
   ],
   "source": [
    "!pip install pywinauto"
   ]
  },
  {
   "cell_type": "code",
   "execution_count": 34,
   "id": "1ed5f119",
   "metadata": {},
   "outputs": [
    {
     "ename": "MatchError",
     "evalue": "Could not find 'File' in 'dict_keys(['&Arquivo', '&Editar', '&Formatar', 'E&xibir', 'Aj&uda'])'",
     "output_type": "error",
     "traceback": [
      "\u001b[1;31m---------------------------------------------------------------------------\u001b[0m",
      "\u001b[1;31mMatchError\u001b[0m                                Traceback (most recent call last)",
      "Input \u001b[1;32mIn [34]\u001b[0m, in \u001b[0;36m<cell line: 18>\u001b[1;34m()\u001b[0m\n\u001b[0;32m     16\u001b[0m app\u001b[38;5;241m.\u001b[39mFont\u001b[38;5;241m.\u001b[39mOK\u001b[38;5;241m.\u001b[39mclick(\u001b[38;5;124m\"\u001b[39m\u001b[38;5;124mItalics and bold\u001b[39m\u001b[38;5;124m\"\u001b[39m)\n\u001b[0;32m     17\u001b[0m app\u001b[38;5;241m.\u001b[39mFont\u001b[38;5;241m.\u001b[39mOK\u001b[38;5;241m.\u001b[39mclick()\n\u001b[1;32m---> 18\u001b[0m \u001b[43mwin\u001b[49m\u001b[38;5;241;43m.\u001b[39;49m\u001b[43mmenu_select\u001b[49m\u001b[43m(\u001b[49m\u001b[38;5;124;43m\"\u001b[39;49m\u001b[38;5;124;43mFile->Save as\u001b[39;49m\u001b[38;5;124;43m\"\u001b[39;49m\u001b[43m)\u001b[49m\n",
      "File \u001b[1;32m~\\anaconda3\\lib\\site-packages\\pywinauto\\controls\\hwndwrapper.py:1084\u001b[0m, in \u001b[0;36mHwndWrapper.menu_select\u001b[1;34m(self, path, exact)\u001b[0m\n\u001b[0;32m   1077\u001b[0m \u001b[38;5;124;03m\"\"\"Find a menu item specified by the path\u001b[39;00m\n\u001b[0;32m   1078\u001b[0m \n\u001b[0;32m   1079\u001b[0m \u001b[38;5;124;03mThe full path syntax is specified in:\u001b[39;00m\n\u001b[0;32m   1080\u001b[0m \u001b[38;5;124;03m:py:meth:`.controls.menuwrapper.Menu.get_menu_path`\u001b[39;00m\n\u001b[0;32m   1081\u001b[0m \u001b[38;5;124;03m\"\"\"\u001b[39;00m\n\u001b[0;32m   1082\u001b[0m \u001b[38;5;28mself\u001b[39m\u001b[38;5;241m.\u001b[39mverify_actionable()\n\u001b[1;32m-> 1084\u001b[0m \u001b[38;5;28;43mself\u001b[39;49m\u001b[38;5;241;43m.\u001b[39;49m\u001b[43mmenu_item\u001b[49m\u001b[43m(\u001b[49m\u001b[43mpath\u001b[49m\u001b[43m,\u001b[49m\u001b[43m \u001b[49m\u001b[43mexact\u001b[49m\u001b[38;5;241;43m=\u001b[39;49m\u001b[43mexact\u001b[49m\u001b[43m)\u001b[49m\u001b[38;5;241m.\u001b[39mselect()\n",
      "File \u001b[1;32m~\\anaconda3\\lib\\site-packages\\pywinauto\\controls\\hwndwrapper.py:1028\u001b[0m, in \u001b[0;36mHwndWrapper.menu_item\u001b[1;34m(self, path, exact)\u001b[0m\n\u001b[0;32m   1026\u001b[0m menu \u001b[38;5;241m=\u001b[39m \u001b[38;5;28mself\u001b[39m\u001b[38;5;241m.\u001b[39mmenu()\n\u001b[0;32m   1027\u001b[0m \u001b[38;5;28;01mif\u001b[39;00m menu:\n\u001b[1;32m-> 1028\u001b[0m     \u001b[38;5;28;01mreturn\u001b[39;00m \u001b[38;5;28;43mself\u001b[39;49m\u001b[38;5;241;43m.\u001b[39;49m\u001b[43mmenu\u001b[49m\u001b[43m(\u001b[49m\u001b[43m)\u001b[49m\u001b[38;5;241;43m.\u001b[39;49m\u001b[43mget_menu_path\u001b[49m\u001b[43m(\u001b[49m\u001b[43mpath\u001b[49m\u001b[43m,\u001b[49m\u001b[43m \u001b[49m\u001b[43mappdata\u001b[49m\u001b[43m \u001b[49m\u001b[38;5;241;43m=\u001b[39;49m\u001b[43m \u001b[49m\u001b[43mmenu_appdata\u001b[49m\u001b[43m,\u001b[49m\u001b[43m \u001b[49m\u001b[43mexact\u001b[49m\u001b[38;5;241;43m=\u001b[39;49m\u001b[43mexact\u001b[49m\u001b[43m)\u001b[49m[\u001b[38;5;241m-\u001b[39m\u001b[38;5;241m1\u001b[39m]\n\u001b[0;32m   1030\u001b[0m \u001b[38;5;28;01mraise\u001b[39;00m \u001b[38;5;167;01mRuntimeError\u001b[39;00m(\u001b[38;5;124m\"\u001b[39m\u001b[38;5;124mThere is no menu.\u001b[39m\u001b[38;5;124m\"\u001b[39m)\n",
      "File \u001b[1;32m~\\anaconda3\\lib\\site-packages\\pywinauto\\controls\\menuwrapper.py:110\u001b[0m, in \u001b[0;36mensure_accessible.<locals>.check\u001b[1;34m(instance, *args, **kwargs)\u001b[0m\n\u001b[0;32m    108\u001b[0m     \u001b[38;5;28;01mraise\u001b[39;00m MenuInaccessible\n\u001b[0;32m    109\u001b[0m \u001b[38;5;28;01melse\u001b[39;00m:\n\u001b[1;32m--> 110\u001b[0m     \u001b[38;5;28;01mreturn\u001b[39;00m method(instance, \u001b[38;5;241m*\u001b[39margs, \u001b[38;5;241m*\u001b[39m\u001b[38;5;241m*\u001b[39mkwargs)\n",
      "File \u001b[1;32m~\\anaconda3\\lib\\site-packages\\pywinauto\\controls\\menuwrapper.py:569\u001b[0m, in \u001b[0;36mMenu.get_menu_path\u001b[1;34m(self, path, path_items, appdata, exact)\u001b[0m\n\u001b[0;32m    566\u001b[0m         best_item \u001b[38;5;241m=\u001b[39m \u001b[38;5;28mself\u001b[39m\u001b[38;5;241m.\u001b[39mitems()[item_texts\u001b[38;5;241m.\u001b[39mindex(current_part)]\n\u001b[0;32m    567\u001b[0m     \u001b[38;5;28;01melse\u001b[39;00m:\n\u001b[0;32m    568\u001b[0m         \u001b[38;5;66;03m# find the item that best matches the current part\u001b[39;00m\n\u001b[1;32m--> 569\u001b[0m         best_item \u001b[38;5;241m=\u001b[39m \u001b[43mfindbestmatch\u001b[49m\u001b[38;5;241;43m.\u001b[39;49m\u001b[43mfind_best_match\u001b[49m\u001b[43m(\u001b[49m\n\u001b[0;32m    570\u001b[0m \u001b[43m            \u001b[49m\u001b[43mcurrent_part\u001b[49m\u001b[43m,\u001b[49m\n\u001b[0;32m    571\u001b[0m \u001b[43m            \u001b[49m\u001b[43mitem_texts\u001b[49m\u001b[43m,\u001b[49m\n\u001b[0;32m    572\u001b[0m \u001b[43m            \u001b[49m\u001b[38;5;28;43mself\u001b[39;49m\u001b[38;5;241;43m.\u001b[39;49m\u001b[43mitems\u001b[49m\u001b[43m(\u001b[49m\u001b[43m)\u001b[49m\u001b[43m)\u001b[49m\n\u001b[0;32m    574\u001b[0m path_items\u001b[38;5;241m.\u001b[39mappend(best_item)\n\u001b[0;32m    576\u001b[0m \u001b[38;5;66;03m# if there are more parts - then get the next level\u001b[39;00m\n",
      "File \u001b[1;32m~\\anaconda3\\lib\\site-packages\\pywinauto\\findbestmatch.py:133\u001b[0m, in \u001b[0;36mfind_best_match\u001b[1;34m(search_text, item_texts, items, limit_ratio)\u001b[0m\n\u001b[0;32m    129\u001b[0m ratios, best_ratio, best_text \u001b[38;5;241m=\u001b[39m \\\n\u001b[0;32m    130\u001b[0m     _get_match_ratios(text_item_map\u001b[38;5;241m.\u001b[39mkeys(), search_text)\n\u001b[0;32m    132\u001b[0m \u001b[38;5;28;01mif\u001b[39;00m best_ratio \u001b[38;5;241m<\u001b[39m limit_ratio:\n\u001b[1;32m--> 133\u001b[0m     \u001b[38;5;28;01mraise\u001b[39;00m MatchError(items \u001b[38;5;241m=\u001b[39m text_item_map\u001b[38;5;241m.\u001b[39mkeys(), tofind \u001b[38;5;241m=\u001b[39m search_text)\n\u001b[0;32m    135\u001b[0m \u001b[38;5;28;01mreturn\u001b[39;00m text_item_map[best_text]\n",
      "\u001b[1;31mMatchError\u001b[0m: Could not find 'File' in 'dict_keys(['&Arquivo', '&Editar', '&Formatar', 'E&xibir', 'Aj&uda'])'"
     ]
    }
   ],
   "source": [
    "from pywinauto import Application\n",
    "import time\n",
    "\n",
    "# Inicia o Bloco de Notas\n",
    "app = Application().start('notepad.exe')\n",
    "time.sleep(1)  # Aguarda um segundo para garantir que o Bloco de Notas foi aberto\n",
    "\n",
    "# Localiza a janela do Bloco de Notas\n",
    "bloco_notas = app['Sem título - Bloco de notas']\n",
    "\n",
    "# Escreve no Bloco de Notas\n",
    "bloco_notas.Edit.type_keys(\"Olá, mundo!\")\n",
    "\n",
    "win = app.UntitledNotepad\n",
    "win.menu_select(\"Format->Font\")\n",
    "app.Font.OK.click(\"Italics and bold\")\n",
    "app.Font.OK.click()\n",
    "win.menu_select(\"File->Save as\")\n"
   ]
  },
  {
   "cell_type": "code",
   "execution_count": 18,
   "id": "72cdce81",
   "metadata": {},
   "outputs": [
    {
     "ename": "ElementNotFoundError",
     "evalue": "{'best_match': 'UntitledNotepad', 'backend': 'uia', 'process': 1788}",
     "output_type": "error",
     "traceback": [
      "\u001b[1;31m---------------------------------------------------------------------------\u001b[0m",
      "\u001b[1;31mTimeoutError\u001b[0m                              Traceback (most recent call last)",
      "File \u001b[1;32m~\\anaconda3\\lib\\site-packages\\pywinauto\\application.py:250\u001b[0m, in \u001b[0;36mWindowSpecification.__resolve_control\u001b[1;34m(self, criteria, timeout, retry_interval)\u001b[0m\n\u001b[0;32m    249\u001b[0m \u001b[38;5;28;01mtry\u001b[39;00m:\n\u001b[1;32m--> 250\u001b[0m     ctrl \u001b[38;5;241m=\u001b[39m \u001b[43mwait_until_passes\u001b[49m\u001b[43m(\u001b[49m\n\u001b[0;32m    251\u001b[0m \u001b[43m        \u001b[49m\u001b[43mtimeout\u001b[49m\u001b[43m,\u001b[49m\n\u001b[0;32m    252\u001b[0m \u001b[43m        \u001b[49m\u001b[43mretry_interval\u001b[49m\u001b[43m,\u001b[49m\n\u001b[0;32m    253\u001b[0m \u001b[43m        \u001b[49m\u001b[38;5;28;43mself\u001b[39;49m\u001b[38;5;241;43m.\u001b[39;49m\u001b[43m__get_ctrl\u001b[49m\u001b[43m,\u001b[49m\n\u001b[0;32m    254\u001b[0m \u001b[43m        \u001b[49m\u001b[43m(\u001b[49m\u001b[43mfindwindows\u001b[49m\u001b[38;5;241;43m.\u001b[39;49m\u001b[43mElementNotFoundError\u001b[49m\u001b[43m,\u001b[49m\n\u001b[0;32m    255\u001b[0m \u001b[43m         \u001b[49m\u001b[43mfindbestmatch\u001b[49m\u001b[38;5;241;43m.\u001b[39;49m\u001b[43mMatchError\u001b[49m\u001b[43m,\u001b[49m\n\u001b[0;32m    256\u001b[0m \u001b[43m         \u001b[49m\u001b[43mcontrols\u001b[49m\u001b[38;5;241;43m.\u001b[39;49m\u001b[43mInvalidWindowHandle\u001b[49m\u001b[43m,\u001b[49m\n\u001b[0;32m    257\u001b[0m \u001b[43m         \u001b[49m\u001b[43mcontrols\u001b[49m\u001b[38;5;241;43m.\u001b[39;49m\u001b[43mInvalidElement\u001b[49m\u001b[43m)\u001b[49m\u001b[43m,\u001b[49m\n\u001b[0;32m    258\u001b[0m \u001b[43m        \u001b[49m\u001b[43mcriteria\u001b[49m\u001b[43m)\u001b[49m\n\u001b[0;32m    260\u001b[0m \u001b[38;5;28;01mexcept\u001b[39;00m \u001b[38;5;167;01mTimeoutError\u001b[39;00m \u001b[38;5;28;01mas\u001b[39;00m e:\n",
      "File \u001b[1;32m~\\anaconda3\\lib\\site-packages\\pywinauto\\timings.py:458\u001b[0m, in \u001b[0;36mwait_until_passes\u001b[1;34m(timeout, retry_interval, func, exceptions, *args, **kwargs)\u001b[0m\n\u001b[0;32m    457\u001b[0m             err\u001b[38;5;241m.\u001b[39moriginal_exception \u001b[38;5;241m=\u001b[39m e\n\u001b[1;32m--> 458\u001b[0m             \u001b[38;5;28;01mraise\u001b[39;00m err\n\u001b[0;32m    460\u001b[0m \u001b[38;5;66;03m# return the function value\u001b[39;00m\n",
      "\u001b[1;31mTimeoutError\u001b[0m: ",
      "\nDuring handling of the above exception, another exception occurred:\n",
      "\u001b[1;31mElementNotFoundError\u001b[0m                      Traceback (most recent call last)",
      "Input \u001b[1;32mIn [18]\u001b[0m, in \u001b[0;36m<cell line: 2>\u001b[1;34m()\u001b[0m\n\u001b[0;32m      1\u001b[0m win \u001b[38;5;241m=\u001b[39m app\u001b[38;5;241m.\u001b[39mUntitledNotepad\n\u001b[1;32m----> 2\u001b[0m \u001b[43mwin\u001b[49m\u001b[38;5;241;43m.\u001b[39;49m\u001b[43mmenu_select\u001b[49m(\u001b[38;5;124m\"\u001b[39m\u001b[38;5;124mFormat->Font\u001b[39m\u001b[38;5;124m\"\u001b[39m)\n\u001b[0;32m      3\u001b[0m app\u001b[38;5;241m.\u001b[39mFont\u001b[38;5;241m.\u001b[39mOK\u001b[38;5;241m.\u001b[39mclick()\n",
      "File \u001b[1;32m~\\anaconda3\\lib\\site-packages\\pywinauto\\application.py:396\u001b[0m, in \u001b[0;36mWindowSpecification.__getattribute__\u001b[1;34m(self, attr_name)\u001b[0m\n\u001b[0;32m    393\u001b[0m     \u001b[38;5;66;03m# Probably there is no DialogWrapper for another backend\u001b[39;00m\n\u001b[0;32m    395\u001b[0m     \u001b[38;5;28;01mif\u001b[39;00m need_to_resolve:\n\u001b[1;32m--> 396\u001b[0m         ctrls \u001b[38;5;241m=\u001b[39m \u001b[38;5;28;43mself\u001b[39;49m\u001b[38;5;241;43m.\u001b[39;49m\u001b[43m__resolve_control\u001b[49m\u001b[43m(\u001b[49m\u001b[38;5;28;43mself\u001b[39;49m\u001b[38;5;241;43m.\u001b[39;49m\u001b[43mcriteria\u001b[49m\u001b[43m)\u001b[49m\n\u001b[0;32m    397\u001b[0m         \u001b[38;5;28;01mreturn\u001b[39;00m \u001b[38;5;28mgetattr\u001b[39m(ctrls[\u001b[38;5;241m-\u001b[39m\u001b[38;5;241m1\u001b[39m], attr_name)\n\u001b[0;32m    399\u001b[0m \u001b[38;5;66;03m# It is a dialog/control criterion so let getitem\u001b[39;00m\n\u001b[0;32m    400\u001b[0m \u001b[38;5;66;03m# deal with it\u001b[39;00m\n",
      "File \u001b[1;32m~\\anaconda3\\lib\\site-packages\\pywinauto\\application.py:261\u001b[0m, in \u001b[0;36mWindowSpecification.__resolve_control\u001b[1;34m(self, criteria, timeout, retry_interval)\u001b[0m\n\u001b[0;32m    250\u001b[0m     ctrl \u001b[38;5;241m=\u001b[39m wait_until_passes(\n\u001b[0;32m    251\u001b[0m         timeout,\n\u001b[0;32m    252\u001b[0m         retry_interval,\n\u001b[1;32m   (...)\u001b[0m\n\u001b[0;32m    257\u001b[0m          controls\u001b[38;5;241m.\u001b[39mInvalidElement),\n\u001b[0;32m    258\u001b[0m         criteria)\n\u001b[0;32m    260\u001b[0m \u001b[38;5;28;01mexcept\u001b[39;00m \u001b[38;5;167;01mTimeoutError\u001b[39;00m \u001b[38;5;28;01mas\u001b[39;00m e:\n\u001b[1;32m--> 261\u001b[0m     \u001b[38;5;28;01mraise\u001b[39;00m e\u001b[38;5;241m.\u001b[39moriginal_exception\n\u001b[0;32m    263\u001b[0m \u001b[38;5;28;01mreturn\u001b[39;00m ctrl\n",
      "File \u001b[1;32m~\\anaconda3\\lib\\site-packages\\pywinauto\\timings.py:436\u001b[0m, in \u001b[0;36mwait_until_passes\u001b[1;34m(timeout, retry_interval, func, exceptions, *args, **kwargs)\u001b[0m\n\u001b[0;32m    433\u001b[0m \u001b[38;5;28;01mwhile\u001b[39;00m \u001b[38;5;28;01mTrue\u001b[39;00m:\n\u001b[0;32m    434\u001b[0m     \u001b[38;5;28;01mtry\u001b[39;00m:\n\u001b[0;32m    435\u001b[0m         \u001b[38;5;66;03m# Call the function with any arguments\u001b[39;00m\n\u001b[1;32m--> 436\u001b[0m         func_val \u001b[38;5;241m=\u001b[39m func(\u001b[38;5;241m*\u001b[39margs, \u001b[38;5;241m*\u001b[39m\u001b[38;5;241m*\u001b[39mkwargs)\n\u001b[0;32m    438\u001b[0m         \u001b[38;5;66;03m# if no exception is raised then we are finished\u001b[39;00m\n\u001b[0;32m    439\u001b[0m         \u001b[38;5;28;01mbreak\u001b[39;00m\n",
      "File \u001b[1;32m~\\anaconda3\\lib\\site-packages\\pywinauto\\application.py:203\u001b[0m, in \u001b[0;36mWindowSpecification.__get_ctrl\u001b[1;34m(self, criteria_)\u001b[0m\n\u001b[0;32m    201\u001b[0m     criteria[\u001b[38;5;241m0\u001b[39m][\u001b[38;5;124m'\u001b[39m\u001b[38;5;124mprocess\u001b[39m\u001b[38;5;124m'\u001b[39m] \u001b[38;5;241m=\u001b[39m \u001b[38;5;28mself\u001b[39m\u001b[38;5;241m.\u001b[39mapp\u001b[38;5;241m.\u001b[39mprocess\n\u001b[0;32m    202\u001b[0m     \u001b[38;5;28;01mdel\u001b[39;00m criteria[\u001b[38;5;241m0\u001b[39m][\u001b[38;5;124m'\u001b[39m\u001b[38;5;124mapp\u001b[39m\u001b[38;5;124m'\u001b[39m]\n\u001b[1;32m--> 203\u001b[0m dialog \u001b[38;5;241m=\u001b[39m \u001b[38;5;28mself\u001b[39m\u001b[38;5;241m.\u001b[39mbackend\u001b[38;5;241m.\u001b[39mgeneric_wrapper_class(findwindows\u001b[38;5;241m.\u001b[39mfind_element(\u001b[38;5;241m*\u001b[39m\u001b[38;5;241m*\u001b[39mcriteria[\u001b[38;5;241m0\u001b[39m]))\n\u001b[0;32m    205\u001b[0m ctrls \u001b[38;5;241m=\u001b[39m []\n\u001b[0;32m    206\u001b[0m \u001b[38;5;66;03m# if there is only criteria for a dialog then return it\u001b[39;00m\n",
      "File \u001b[1;32m~\\anaconda3\\lib\\site-packages\\pywinauto\\findwindows.py:87\u001b[0m, in \u001b[0;36mfind_element\u001b[1;34m(**kwargs)\u001b[0m\n\u001b[0;32m     84\u001b[0m elements \u001b[38;5;241m=\u001b[39m find_elements(\u001b[38;5;241m*\u001b[39m\u001b[38;5;241m*\u001b[39mkwargs)\n\u001b[0;32m     86\u001b[0m \u001b[38;5;28;01mif\u001b[39;00m \u001b[38;5;129;01mnot\u001b[39;00m elements:\n\u001b[1;32m---> 87\u001b[0m     \u001b[38;5;28;01mraise\u001b[39;00m ElementNotFoundError(kwargs)\n\u001b[0;32m     89\u001b[0m \u001b[38;5;28;01mif\u001b[39;00m \u001b[38;5;28mlen\u001b[39m(elements) \u001b[38;5;241m>\u001b[39m \u001b[38;5;241m1\u001b[39m:\n\u001b[0;32m     90\u001b[0m     exception \u001b[38;5;241m=\u001b[39m ElementAmbiguousError(\n\u001b[0;32m     91\u001b[0m         \u001b[38;5;124m\"\u001b[39m\u001b[38;5;124mThere are \u001b[39m\u001b[38;5;132;01m{0}\u001b[39;00m\u001b[38;5;124m elements that match the criteria \u001b[39m\u001b[38;5;132;01m{1}\u001b[39;00m\u001b[38;5;124m\"\u001b[39m\u001b[38;5;241m.\u001b[39mformat(\n\u001b[0;32m     92\u001b[0m             \u001b[38;5;28mlen\u001b[39m(elements),\n\u001b[0;32m     93\u001b[0m             six\u001b[38;5;241m.\u001b[39mtext_type(kwargs),\n\u001b[0;32m     94\u001b[0m         )\n\u001b[0;32m     95\u001b[0m     )\n",
      "\u001b[1;31mElementNotFoundError\u001b[0m: {'best_match': 'UntitledNotepad', 'backend': 'uia', 'process': 1788}"
     ]
    }
   ],
   "source": []
  }
 ],
 "metadata": {
  "kernelspec": {
   "display_name": "Python 3 (ipykernel)",
   "language": "python",
   "name": "python3"
  },
  "language_info": {
   "codemirror_mode": {
    "name": "ipython",
    "version": 3
   },
   "file_extension": ".py",
   "mimetype": "text/x-python",
   "name": "python",
   "nbconvert_exporter": "python",
   "pygments_lexer": "ipython3",
   "version": "3.9.12"
  }
 },
 "nbformat": 4,
 "nbformat_minor": 5
}
