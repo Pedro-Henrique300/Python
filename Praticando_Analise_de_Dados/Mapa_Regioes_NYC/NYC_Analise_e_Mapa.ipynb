{
 "cells": [
  {
   "cell_type": "markdown",
   "metadata": {
    "id": "ltXKyhctE029"
   },
   "source": [
    "![NYC](https://storage.googleapis.com/kaggle-datasets-images/268833/559075/cf825b5af1f904cd1ea6404039abc88e/dataset-cover.jpg?t=2019-07-18-19-19-53)\n"
   ]
  },
  {
   "cell_type": "code",
   "execution_count": null,
   "metadata": {},
   "outputs": [],
   "source": []
  },
  {
   "cell_type": "code",
   "execution_count": null,
   "metadata": {
    "id": "TIXcFLtmALne"
   },
   "outputs": [],
   "source": [
    "import pandas as pd\r\n",
    "import matplotlib.pyplot as plt\r\n",
    "import seaborn as sns\r\n",
    "import folium\r\n",
    "from folium.plugins import MarkerCluster"
   ]
  },
  {
   "cell_type": "code",
   "execution_count": null,
   "metadata": {
    "id": "B8MYXfREwhoM"
   },
   "outputs": [],
   "source": [
    "url = 'https://raw.githubusercontent.com/Pedro-Henrique300/praticando_analise_de_dados/main/Mapa_Hoteis_NYC/AB_NYC_2019.csv'"
   ]
  },
  {
   "cell_type": "code",
   "execution_count": null,
   "metadata": {
    "id": "t16_evInBejo"
   },
   "outputs": [],
   "source": [
    "data = pd.read_csv(url)"
   ]
  },
  {
   "cell_type": "code",
   "execution_count": null,
   "metadata": {
    "colab": {
     "base_uri": "https://localhost:8080/",
     "height": 222
    },
    "id": "SeyJo2q8BpX_",
    "outputId": "c099f41c-122d-4e9b-fdcc-bc6933ebdb6c"
   },
   "outputs": [],
   "source": [
    "data.head(1)"
   ]
  },
  {
   "cell_type": "code",
   "execution_count": null,
   "metadata": {
    "colab": {
     "base_uri": "https://localhost:8080/",
     "height": 947
    },
    "id": "TLtt3DgTB1ve",
    "outputId": "f4ab24b5-a91a-4e99-a7b6-3c887135375b"
   },
   "outputs": [],
   "source": [
    "data.dropna()"
   ]
  },
  {
   "cell_type": "code",
   "execution_count": null,
   "metadata": {
    "id": "wyUhkDwnDFCc"
   },
   "outputs": [],
   "source": [
    "data.drop(['id'], axis=1, inplace=True)"
   ]
  },
  {
   "cell_type": "code",
   "execution_count": null,
   "metadata": {
    "id": "JgbSDqZwEvjG"
   },
   "outputs": [],
   "source": [
    "data.dropna(inplace=True)"
   ]
  },
  {
   "cell_type": "code",
   "execution_count": null,
   "metadata": {
    "colab": {
     "base_uri": "https://localhost:8080/",
     "height": 565
    },
    "id": "1lrmHkj0DYJC",
    "outputId": "7adf23ed-105a-4d20-87a0-eae953819598"
   },
   "outputs": [],
   "source": [
    "# Agrupe os dados por 'room_type' e calcule a média de 'price' para cada grupo\n",
    "room_type_price = data.groupby('room_type')['price'].mean().reset_index()\n",
    "\n",
    "# Crie o gráfico de colunas\n",
    "plt.figure(figsize=(10, 6))  # Define o tamanho do gráfico\n",
    "sns.barplot(x='price', y='room_type', data=room_type_price, palette='Set1')\n",
    "plt.xlabel('Preço Médio em Dólares')\n",
    "plt.ylabel('Tipo de Quarto')\n",
    "plt.title('Preço Médio por Tipo de Quarto')\n",
    "\n",
    "plt.show()"
   ]
  },
  {
   "cell_type": "code",
   "execution_count": null,
   "metadata": {
    "colab": {
     "base_uri": "https://localhost:8080/",
     "height": 143
    },
    "id": "_eM-_kgHGlJ_",
    "outputId": "8ab9818a-c0b7-4f8e-e43f-4de8bc319cd7"
   },
   "outputs": [],
   "source": [
    "room_type_price.head()"
   ]
  },
  {
   "cell_type": "code",
   "execution_count": null,
   "metadata": {
    "id": "jyL6CsppHdvL"
   },
   "outputs": [],
   "source": [
    "# Certifique-se de que 'price', 'latitude', e 'longitude' sejam do tipo numérico\n",
    "data['price'] = pd.to_numeric(data['price'])\n",
    "data['latitude'] = pd.to_numeric(data['latitude'])\n",
    "data['longitude'] = pd.to_numeric(data['longitude'])\n",
    "\n",
    "# Agrupe os dados por 'neighbourhood_group' e calcule a média de 'price' para cada grupo\n",
    "region_avg_price = data.groupby('neighbourhood_group')['price'].mean().reset_index()\n",
    "\n",
    "# Crie um mapa Folium\n",
    "m = folium.Map(location=[40.7128, -74.0060], zoom_start=10)  # Define a localização e o nível de zoom inicial\n",
    "\n",
    "# Crie marcadores no mapa para cada região\n",
    "marker_cluster = MarkerCluster().add_to(m)\n",
    "for index, row in region_avg_price.iterrows():\n",
    "    region = row['neighbourhood_group']\n",
    "    price = row['price']\n",
    "\n",
    "    # Obtenha a latitude e longitude média para a região\n",
    "    region_data = data[data['neighbourhood_group'] == region]\n",
    "    avg_lat = region_data['latitude'].mean()\n",
    "    avg_lon = region_data['longitude'].mean()\n",
    "\n",
    "    # Escolha uma cor com base no preço médio (você pode personalizar isso)\n",
    "    color = 'green' if price < 100 else 'orange' if price < 200 else 'red'\n",
    "\n",
    "    # Crie um marcador para cada região\n",
    "    folium.Marker(\n",
    "        location=[avg_lat, avg_lon],\n",
    "        icon=folium.Icon(color=color),\n",
    "        tooltip=f'Região: {region}<br>Preço Médio: ${price:.2f}'\n",
    "    ).add_to(marker_cluster)"
   ]
  },
  {
   "cell_type": "code",
   "execution_count": null,
   "metadata": {
    "colab": {
     "base_uri": "https://localhost:8080/",
     "height": 783
    },
    "id": "arIPMeE5Hdnt",
    "outputId": "fd8f5f38-9af4-4134-9997-67cca592e5a4"
   },
   "outputs": [],
   "source": [
    "display(m)"
   ]
  },
  {
   "cell_type": "code",
   "execution_count": null,
   "metadata": {
    "id": "AObXWlVx7BAk"
   },
   "outputs": [],
   "source": [
    "# Para salvar\n",
    "m.save(\"regioes_mapa_interativo.html\")"
   ]
  }
 ],
 "metadata": {
  "colab": {
   "provenance": []
  },
  "kernelspec": {
   "display_name": "Python 3.11.7 32-bit",
   "name": "python3117jvsc74a57bd0c83cabb19ecee0c24479ce9ec06976d850430b874ff91d5ef56771fad49e2fae"
  },
  "language_info": {
   "name": "python",
   "version": ""
  },
  "metadata": {
   "interpreter": {
    "hash": "c83cabb19ecee0c24479ce9ec06976d850430b874ff91d5ef56771fad49e2fae"
   }
  }
 },
 "nbformat": 4,
 "nbformat_minor": 1
}